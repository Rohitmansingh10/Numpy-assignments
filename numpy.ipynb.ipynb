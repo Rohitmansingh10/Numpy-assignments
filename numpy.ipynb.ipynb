{
  "nbformat": 4,
  "nbformat_minor": 0,
  "metadata": {
    "colab": {
      "provenance": []
    },
    "kernelspec": {
      "name": "python3",
      "display_name": "Python 3"
    },
    "language_info": {
      "name": "python"
    }
  },
  "cells": [
    {
      "cell_type": "markdown",
      "source": [
        "## ***1. Create a 3x3 NumPy array with random integers between 1 and 100. Then, interchange its rows and columns***"
      ],
      "metadata": {
        "id": "B5TBUsDAidJk"
      }
    },
    {
      "cell_type": "code",
      "source": [
        "import numpy as np\n",
        "\n",
        "# Create a 3x3 array with random integers between 1 and 100\n",
        "array_3x3 = np.random.randint(1, 101, size=(3, 3))\n",
        "\n",
        "# Interchange rows and columns (transpose the array)\n",
        "transposed_array = array_3x3.T\n",
        "\n",
        "# Print the original and transposed arrays\n",
        "print(\"Original Array:\")\n",
        "print(array_3x3)\n",
        "print(\"\\nTransposed Array:\")\n",
        "print(transposed_array)\n"
      ],
      "metadata": {
        "colab": {
          "base_uri": "https://localhost:8080/"
        },
        "id": "NJ6xpz13oK1J",
        "outputId": "ce4d2a62-1b58-4be4-d086-12911cd02840"
      },
      "execution_count": 7,
      "outputs": [
        {
          "output_type": "stream",
          "name": "stdout",
          "text": [
            "Original Array:\n",
            "[[19 80 21]\n",
            " [34 92  2]\n",
            " [40  4 92]]\n",
            "\n",
            "Transposed Array:\n",
            "[[19 34 40]\n",
            " [80 92  4]\n",
            " [21  2 92]]\n"
          ]
        }
      ]
    },
    {
      "cell_type": "markdown",
      "source": [
        "## ***2. Generate a 1D NumPy array with 10 elements. Reshape it into a 2x5 array, then into a 5x2 array.***"
      ],
      "metadata": {
        "id": "J2SiPpi1ocrK"
      }
    },
    {
      "cell_type": "code",
      "source": [
        "import numpy as np\n",
        "\n",
        "# Step 1: Generate a 1D NumPy array with 10 elements\n",
        "array_1d = np.arange(10)  # Generates an array with elements from 0 to 9\n",
        "\n",
        "# Step 2: Reshape it into a 2x5 array\n",
        "array_2x5 = array_1d.reshape(2, 5)\n",
        "\n",
        "# Step 3: Reshape it into a 5x2 array\n",
        "array_5x2 = array_1d.reshape(5, 2)\n",
        "\n",
        "# Output the arrays\n",
        "print(\"1D Array:\")\n",
        "print(array_1d)\n",
        "print(\"\\nReshaped 2x5 Array:\")\n",
        "print(array_2x5)\n",
        "print(\"\\nReshaped 5x2 Array:\")\n",
        "print(array_5x2)\n"
      ],
      "metadata": {
        "colab": {
          "base_uri": "https://localhost:8080/"
        },
        "id": "dXO-gJ9roOt3",
        "outputId": "4bd34a60-4f2c-4935-a6aa-08323141f025"
      },
      "execution_count": 8,
      "outputs": [
        {
          "output_type": "stream",
          "name": "stdout",
          "text": [
            "1D Array:\n",
            "[0 1 2 3 4 5 6 7 8 9]\n",
            "\n",
            "Reshaped 2x5 Array:\n",
            "[[0 1 2 3 4]\n",
            " [5 6 7 8 9]]\n",
            "\n",
            "Reshaped 5x2 Array:\n",
            "[[0 1]\n",
            " [2 3]\n",
            " [4 5]\n",
            " [6 7]\n",
            " [8 9]]\n"
          ]
        }
      ]
    },
    {
      "cell_type": "markdown",
      "source": [
        "## ***3. Create a 4x4 NumPy array with random float values. Add a border of zeros around it, resulting in a 6x6 array***"
      ],
      "metadata": {
        "id": "DWW7ga9sozHh"
      }
    },
    {
      "cell_type": "code",
      "source": [
        "\n",
        "import numpy as np\n",
        "\n",
        "# Step 1: Create a 4x4 array with random float values\n",
        "array_4x4 = np.random.rand(4, 4)  # Generates a 4x4 array with values between 0 and 1\n",
        "\n",
        "# Step 2: Add a border of zeros around the array\n",
        "array_with_border = np.pad(array_4x4, pad_width=1, mode='constant', constant_values=0)\n",
        "\n",
        "# Output the original and bordered arrays\n",
        "print(\"Original 4x4 Array:\")\n",
        "print(array_4x4)\n",
        "print(\"\\n6x6 Array with Border of Zeros:\")\n",
        "print(array_with_border)\n"
      ],
      "metadata": {
        "colab": {
          "base_uri": "https://localhost:8080/"
        },
        "id": "ovUFFQx5ooni",
        "outputId": "75cac36a-1869-44dd-eaf2-9cde1398fd00"
      },
      "execution_count": 9,
      "outputs": [
        {
          "output_type": "stream",
          "name": "stdout",
          "text": [
            "Original 4x4 Array:\n",
            "[[0.13141405 0.4702703  0.6041058  0.41088755]\n",
            " [0.6325553  0.42226466 0.13657723 0.62153728]\n",
            " [0.00402444 0.65136272 0.00862696 0.16903453]\n",
            " [0.98262177 0.15324947 0.66249318 0.68252846]]\n",
            "\n",
            "6x6 Array with Border of Zeros:\n",
            "[[0.         0.         0.         0.         0.         0.        ]\n",
            " [0.         0.13141405 0.4702703  0.6041058  0.41088755 0.        ]\n",
            " [0.         0.6325553  0.42226466 0.13657723 0.62153728 0.        ]\n",
            " [0.         0.00402444 0.65136272 0.00862696 0.16903453 0.        ]\n",
            " [0.         0.98262177 0.15324947 0.66249318 0.68252846 0.        ]\n",
            " [0.         0.         0.         0.         0.         0.        ]]\n"
          ]
        }
      ]
    },
    {
      "cell_type": "markdown",
      "source": [
        "## **4.Using NumPy, create an array of integers from 10 to 60 with a step of 5.**"
      ],
      "metadata": {
        "id": "xkt4L1TJpOsS"
      }
    },
    {
      "cell_type": "code",
      "source": [
        "import numpy as np\n",
        "\n",
        "# Create an array of integers from 10 to 60 with a step of 5\n",
        "array_step_5 = np.arange(10, 61, 5)\n",
        "\n",
        "# Output the array\n",
        "print(\"Array of integers from 10 to 60 with a step of 5:\")\n",
        "print(array_step_5)\n"
      ],
      "metadata": {
        "colab": {
          "base_uri": "https://localhost:8080/"
        },
        "id": "l4cedvddpRdy",
        "outputId": "38e5206c-e9a1-4798-ad7d-3f5d820bef17"
      },
      "execution_count": 10,
      "outputs": [
        {
          "output_type": "stream",
          "name": "stdout",
          "text": [
            "Array of integers from 10 to 60 with a step of 5:\n",
            "[10 15 20 25 30 35 40 45 50 55 60]\n"
          ]
        }
      ]
    },
    {
      "cell_type": "markdown",
      "source": [
        "## **5. Create a NumPy array of strings ['python', 'numpy', 'pandas']. Apply different case transformations (uppercase, lowercase, title case, etc.) to each element.**\n"
      ],
      "metadata": {
        "id": "K5K9Q1szpn4W"
      }
    },
    {
      "cell_type": "code",
      "source": [
        "import numpy as np\n",
        "\n",
        "# Create a NumPy array of strings\n",
        "string_array = np.array(['python', 'numpy', 'pandas'])\n",
        "\n",
        "# Apply different case transformations\n",
        "uppercase_array = np.char.upper(string_array)    # Uppercase\n",
        "lowercase_array = np.char.lower(string_array)    # Lowercase\n",
        "titlecase_array = np.char.title(string_array)     # Title Case\n",
        "capitalize_array = np.char.capitalize(string_array)  # Capitalize\n",
        "\n",
        "# Output the original and transformed arrays\n",
        "print(\"Original Array:\")\n",
        "print(string_array)\n",
        "\n",
        "print(\"\\nUppercase Array:\")\n",
        "print(uppercase_array)\n",
        "\n",
        "print(\"\\nLowercase Array:\")\n",
        "print(lowercase_array)\n",
        "\n",
        "print(\"\\nTitle Case Array:\")\n",
        "print(titlecase_array)\n",
        "\n",
        "print(\"\\nCapitalized Array:\")\n",
        "print(capitalize_array)\n"
      ],
      "metadata": {
        "colab": {
          "base_uri": "https://localhost:8080/"
        },
        "id": "GNhoiSH0phgC",
        "outputId": "f514ce9e-531c-4b44-d46b-5871c7830be0"
      },
      "execution_count": 11,
      "outputs": [
        {
          "output_type": "stream",
          "name": "stdout",
          "text": [
            "Original Array:\n",
            "['python' 'numpy' 'pandas']\n",
            "\n",
            "Uppercase Array:\n",
            "['PYTHON' 'NUMPY' 'PANDAS']\n",
            "\n",
            "Lowercase Array:\n",
            "['python' 'numpy' 'pandas']\n",
            "\n",
            "Title Case Array:\n",
            "['Python' 'Numpy' 'Pandas']\n",
            "\n",
            "Capitalized Array:\n",
            "['Python' 'Numpy' 'Pandas']\n"
          ]
        }
      ]
    },
    {
      "cell_type": "markdown",
      "source": [
        "## **6.Generate a NumPy array of words. Insert a space between each character of every word in the array.**"
      ],
      "metadata": {
        "id": "cVwcJEojp88P"
      }
    },
    {
      "cell_type": "code",
      "source": [
        "import numpy as np\n",
        "\n",
        "# Create a NumPy array of words\n",
        "word_array = np.array(['python', 'numpy', 'pandas'])\n",
        "\n",
        "# Insert a space between each character of every word\n",
        "spaced_array = np.char.join(' ', word_array)\n",
        "\n",
        "# Output the transformed array\n",
        "print(\"Original Array:\")\n",
        "print(word_array)\n",
        "\n",
        "print(\"\\nArray with spaces between characters:\")\n",
        "print(spaced_array)\n"
      ],
      "metadata": {
        "colab": {
          "base_uri": "https://localhost:8080/"
        },
        "id": "VU5sCapHpyQT",
        "outputId": "fa44d643-d986-41a6-819c-1b196e3f48e4"
      },
      "execution_count": 12,
      "outputs": [
        {
          "output_type": "stream",
          "name": "stdout",
          "text": [
            "Original Array:\n",
            "['python' 'numpy' 'pandas']\n",
            "\n",
            "Array with spaces between characters:\n",
            "['p y t h o n' 'n u m p y' 'p a n d a s']\n"
          ]
        }
      ]
    },
    {
      "cell_type": "markdown",
      "source": [
        "##*** 7.Create two 2D NumPy arrays and perform element-wise addition, subtraction, multiplication, and division.***"
      ],
      "metadata": {
        "id": "weiP9Cq4qYLA"
      }
    },
    {
      "cell_type": "code",
      "source": [
        "import numpy as np\n",
        "\n",
        "# Create two 2D NumPy arrays\n",
        "array1 = np.array([[1, 2, 3], [4, 5, 6]])\n",
        "array2 = np.array([[7, 8, 9], [10, 11, 12]])\n",
        "\n",
        "# Perform element-wise addition\n",
        "addition_result = array1 + array2\n",
        "\n",
        "# Perform element-wise subtraction\n",
        "subtraction_result = array1 - array2\n",
        "\n",
        "# Perform element-wise multiplication\n",
        "multiplication_result = array1 * array2\n",
        "\n",
        "# Perform element-wise division\n",
        "division_result = array1 / array2\n",
        "\n",
        "# Output the results\n",
        "print(\"Array 1:\")\n",
        "print(array1)\n",
        "\n",
        "print(\"\\nArray 2:\")\n",
        "print(array2)\n",
        "\n",
        "print(\"\\nElement-wise Addition:\")\n",
        "print(addition_result)\n",
        "\n",
        "print(\"\\nElement-wise Subtraction:\")\n",
        "print(subtraction_result)\n",
        "\n",
        "print(\"\\nElement-wise Multiplication:\")\n",
        "print(multiplication_result)\n",
        "\n",
        "print(\"\\nElement-wise Division:\")\n",
        "print(division_result)\n"
      ],
      "metadata": {
        "colab": {
          "base_uri": "https://localhost:8080/"
        },
        "id": "gH_HIKOBqRZ3",
        "outputId": "5e255a47-badf-4cc4-e4d7-dc706987905c"
      },
      "execution_count": 13,
      "outputs": [
        {
          "output_type": "stream",
          "name": "stdout",
          "text": [
            "Array 1:\n",
            "[[1 2 3]\n",
            " [4 5 6]]\n",
            "\n",
            "Array 2:\n",
            "[[ 7  8  9]\n",
            " [10 11 12]]\n",
            "\n",
            "Element-wise Addition:\n",
            "[[ 8 10 12]\n",
            " [14 16 18]]\n",
            "\n",
            "Element-wise Subtraction:\n",
            "[[-6 -6 -6]\n",
            " [-6 -6 -6]]\n",
            "\n",
            "Element-wise Multiplication:\n",
            "[[ 7 16 27]\n",
            " [40 55 72]]\n",
            "\n",
            "Element-wise Division:\n",
            "[[0.14285714 0.25       0.33333333]\n",
            " [0.4        0.45454545 0.5       ]]\n"
          ]
        }
      ]
    },
    {
      "cell_type": "markdown",
      "source": [
        "## ***8. Use NumPy to create a 5x5 identity matrix, then extract its diagonal elements.***"
      ],
      "metadata": {
        "id": "4oIJVh8zquMB"
      }
    },
    {
      "cell_type": "code",
      "source": [
        "import numpy as np\n",
        "\n",
        "# Step 1: Create a 5x5 identity matrix\n",
        "identity_matrix = np.eye(5)\n",
        "\n",
        "# Step 2: Extract the diagonal elements\n",
        "diagonal_elements = np.diagonal(identity_matrix)\n",
        "\n",
        "# Output the identity matrix and its diagonal elements\n",
        "print(\"5x5 Identity Matrix:\")\n",
        "print(identity_matrix)\n",
        "\n",
        "print(\"\\nDiagonal Elements:\")\n",
        "print(diagonal_elements)\n"
      ],
      "metadata": {
        "colab": {
          "base_uri": "https://localhost:8080/"
        },
        "id": "BeaCYY6tqh8B",
        "outputId": "90cd3cc5-4927-4d20-c8aa-87d8d9994b64"
      },
      "execution_count": 14,
      "outputs": [
        {
          "output_type": "stream",
          "name": "stdout",
          "text": [
            "5x5 Identity Matrix:\n",
            "[[1. 0. 0. 0. 0.]\n",
            " [0. 1. 0. 0. 0.]\n",
            " [0. 0. 1. 0. 0.]\n",
            " [0. 0. 0. 1. 0.]\n",
            " [0. 0. 0. 0. 1.]]\n",
            "\n",
            "Diagonal Elements:\n",
            "[1. 1. 1. 1. 1.]\n"
          ]
        }
      ]
    },
    {
      "cell_type": "markdown",
      "source": [
        "## ***9. Generate a NumPy array of 100 random integers between 0 and 1000. Find and display all prime numbers in this array.***"
      ],
      "metadata": {
        "id": "iW8eV7Zpq7tS"
      }
    },
    {
      "cell_type": "code",
      "source": [
        "import numpy as np\n",
        "\n",
        "# Step 1: Generate a NumPy array of 100 random integers between 0 and 1000\n",
        "random_integers = np.random.randint(0, 1001, size=100)\n",
        "\n",
        "# Step 2: Function to check if a number is prime\n",
        "def is_prime(num):\n",
        "    if num < 2:\n",
        "        return False\n",
        "    for i in range(2, int(num**0.5) + 1):\n",
        "        if num % i == 0:\n",
        "            return False\n",
        "    return True\n",
        "\n",
        "# Step 3: Find all prime numbers in the array\n",
        "prime_numbers = [num for num in random_integers if is_prime(num)]\n",
        "\n",
        "random_integers, prime_numbers\n"
      ],
      "metadata": {
        "colab": {
          "base_uri": "https://localhost:8080/"
        },
        "id": "lXr43uSYq0ke",
        "outputId": "2e269169-687a-4900-dc00-274fad6393ca"
      },
      "execution_count": 15,
      "outputs": [
        {
          "output_type": "execute_result",
          "data": {
            "text/plain": [
              "(array([188, 164, 905, 342, 107, 753, 548, 130, 615, 451,  48, 301, 154,\n",
              "        881,  49, 298, 913, 806, 896, 489, 747, 144, 238,  13, 998, 987,\n",
              "        319, 945, 945, 690, 345, 216, 225, 111, 294, 775, 550, 549, 809,\n",
              "          0,  77, 256, 637, 963, 316, 266, 967, 870, 925, 154, 812, 975,\n",
              "        624, 325, 164, 380, 373, 350, 536, 356, 108, 765, 592, 154, 805,\n",
              "        321, 516, 165, 562, 474, 172, 136, 991, 441, 712, 364, 389, 158,\n",
              "        476,  32, 575, 483, 890, 499, 983, 510, 974, 714, 622, 144, 234,\n",
              "        152, 410, 343, 271, 160, 896, 866, 797, 741]),\n",
              " [107, 881, 13, 809, 967, 373, 991, 389, 499, 983, 271, 797])"
            ]
          },
          "metadata": {},
          "execution_count": 15
        }
      ]
    },
    {
      "cell_type": "markdown",
      "source": [
        "## ***10. Create a NumPy array representing daily temperatures for a month. Calculate and display the weekly averages.***\n"
      ],
      "metadata": {
        "id": "gjYXC1eVrXZk"
      }
    },
    {
      "cell_type": "code",
      "source": [
        "import numpy as np\n",
        "\n",
        "# Step 1: Create a NumPy array representing daily temperatures for a month (30 days)\n",
        "# For demonstration, let's generate random temperatures between 20 and 35 degrees Celsius.\n",
        "daily_temperatures = np.random.uniform(20, 35, size=30)\n",
        "\n",
        "# Step 2: Reshape the array into a 4-week format (each week has 7 days)\n",
        "# We will pad with NaN values to handle the extra days if needed (for 30 days).\n",
        "# 4 complete weeks and 2 extra days will be reshaped to (4, 7).\n",
        "weeks_temperatures = np.pad(daily_temperatures, (0, 7 - (len(daily_temperatures) % 7)), mode='constant', constant_values=np.nan)\n",
        "weeks_temperatures = weeks_temperatures.reshape(-1, 7)\n",
        "\n",
        "# Step 3: Calculate weekly averages, ignoring NaN values\n",
        "weekly_averages = np.nanmean(weeks_temperatures, axis=1)\n",
        "\n",
        "# Output the daily temperatures and weekly averages\n",
        "print(\"Daily Temperatures for the Month:\")\n",
        "print(daily_temperatures)\n",
        "\n",
        "print(\"\\nWeekly Averages:\")\n",
        "print(weekly_averages)\n"
      ],
      "metadata": {
        "colab": {
          "base_uri": "https://localhost:8080/"
        },
        "id": "qB_W-x6zrP5U",
        "outputId": "29410488-496e-4691-c19e-94f8cf6c04d0"
      },
      "execution_count": 16,
      "outputs": [
        {
          "output_type": "stream",
          "name": "stdout",
          "text": [
            "Daily Temperatures for the Month:\n",
            "[23.86385088 25.2380919  23.41025084 27.0444817  23.477147   26.01628135\n",
            " 31.98177828 31.24392428 31.84016388 32.91581812 20.88387974 31.24468835\n",
            " 26.84016896 30.76076439 21.48778366 28.31544772 33.92904638 33.98013555\n",
            " 32.49150511 28.73083091 23.22879821 20.47009224 30.52597744 24.52473243\n",
            " 34.78873565 27.30444461 25.64124719 29.26505631 31.75402676 32.12500401]\n",
            "\n",
            "Weekly Averages:\n",
            "[25.86169742 29.38991539 28.88050679 27.50289798 31.93951539]\n"
          ]
        }
      ]
    }
  ]
}